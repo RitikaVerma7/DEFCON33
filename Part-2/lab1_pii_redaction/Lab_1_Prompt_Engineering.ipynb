{
  "cells": [
    {
      "cell_type": "markdown",
      "source": [
        "# 🛡️ Lab 1: Prompt Engineering for Security Tasks\n",
        "\n",
        "## 🧪 Task: Extract CVEs from a Noisy Security Log\n",
        "\n",
        "In this lab, you'll practice crafting prompts for LLMs to extract structured vulnerability data (CVEs) from unstructured system logs.\n",
        "This simulates how security teams might automate incident summarization or threat detection workflows using GenAI.\n"
      ],
      "metadata": {
        "id": "4VSjlqYx6OFZ"
      },
      "id": "4VSjlqYx6OFZ"
    },
    {
      "cell_type": "markdown",
      "source": [
        "## 🛠️ Setup Instructions\n",
        "\n",
        "Before you begin, ensure you:\n",
        "- Have an OpenAI API key and environment variable (`openai.api_key`)\n",
        "- Are using GPT-3.5-Turbo or GPT-4\n",
        "- Are familiar with basic Python\n",
        "\n",
        "In this task, you'll analyze a noisy system log containing multiple CVEs and generate a structured summary using the LLM.\n",
        "\n",
        "The logs may contain real CVE patterns (e.g., CVE-YYYY-NNNN), which you need to extract using a well-engineered prompt.\n"
      ],
      "metadata": {
        "id": "H3u_Qr286XQp"
      },
      "id": "H3u_Qr286XQp"
    },
    {
      "cell_type": "markdown",
      "source": [
        "## 1. Extract CVEs from a noisy log"
      ],
      "metadata": {
        "id": "t4jYxUcSRjk1"
      },
      "id": "t4jYxUcSRjk1"
    },
    {
      "cell_type": "code",
      "execution_count": null,
      "id": "090a1718",
      "metadata": {
        "id": "090a1718"
      },
      "outputs": [],
      "source": [
        "import openai\n",
        "\n",
        "from google.colab import userdata\n",
        "# Insert your OpenAI API key here\n",
        "api_key = userdata.get('openai.api_key')\n",
        "\n",
        "# ✅ Create the OpenAI client\n",
        "client = openai.OpenAI(api_key=api_key)\n",
        "\n",
        "# Sample Noisy input\n",
        "noisy_log = \"\"\"\n",
        "System Alert: Vulnerability ID CVE-2023-12345 detected on host srv-12.\n",
        "User admin logged in via SSH. Possible exploit associated with CVE-2022-9999.\n",
        "Refer to advisory: https://nvd.nist.gov/vuln/detail/CVE-2023-12345\n",
        "\"\"\"\n",
        "\n"
      ]
    },
    {
      "cell_type": "markdown",
      "source": [
        "####Vague Prompt"
      ],
      "metadata": {
        "id": "LMsOOmMgStLt"
      },
      "id": "LMsOOmMgStLt"
    },
    {
      "cell_type": "code",
      "source": [
        "prompt = f\"Can you get CVEs from this text: {noisy_log}\"\n",
        "# ChatCompletion using new SDK style\n",
        "response = client.chat.completions.create(\n",
        "    model=\"gpt-3.5-turbo\",\n",
        "    messages=[\n",
        "        {\"role\": \"user\", \"content\": prompt}\n",
        "    ],\n",
        "    temperature=0.2\n",
        ")\n",
        "\n",
        "# Print result\n",
        "output_text = response.choices[0].message.content\n",
        "print(\"🔎 LLM Output:\\n\", output_text)\n"
      ],
      "metadata": {
        "colab": {
          "base_uri": "https://localhost:8080/"
        },
        "id": "RCiSf-2CSgHa",
        "outputId": "f46dc381-b6f6-4b1b-bc44-95aa03750bb5"
      },
      "id": "RCiSf-2CSgHa",
      "execution_count": null,
      "outputs": [
        {
          "output_type": "stream",
          "name": "stdout",
          "text": [
            "🔎 LLM Output:\n",
            " Yes, the CVEs mentioned in the text are CVE-2023-12345 and CVE-2022-9999.\n"
          ]
        }
      ]
    },
    {
      "cell_type": "markdown",
      "source": [
        "### Clean prompt"
      ],
      "metadata": {
        "id": "phgW4ymFSzZ7"
      },
      "id": "phgW4ymFSzZ7"
    },
    {
      "cell_type": "markdown",
      "source": [
        "\n",
        "\n",
        "In this example, we refine the prompt to help the LLM focus on just the CVE extraction.\n"
      ],
      "metadata": {
        "id": "9MABBwJk9UGA"
      },
      "id": "9MABBwJk9UGA"
    },
    {
      "cell_type": "code",
      "source": [
        "\n",
        "# Prompt\n",
        "prompt = f\"\"\"\n",
        "You are a security analyst assistant.\n",
        "Extract all CVE identifiers from the following text and return them as JSON.\n",
        "\n",
        "Text:\n",
        "'''{noisy_log}'''\n",
        "\n",
        "Return in this format:\n",
        "{{\"cves\": [\"CVE-XXXX-YYYY\", ...]}}\n",
        "\"\"\"\n",
        "\n",
        "# ChatCompletion using new SDK style\n",
        "response = client.chat.completions.create(\n",
        "    model=\"gpt-3.5-turbo\",\n",
        "    messages=[\n",
        "        {\"role\": \"user\", \"content\": prompt}\n",
        "    ],\n",
        "    temperature=0.2\n",
        ")\n",
        "\n",
        "# Print result\n",
        "output_text = response.choices[0].message.content\n",
        "print(\"🔎 LLM Output:\\n\", output_text)"
      ],
      "metadata": {
        "colab": {
          "base_uri": "https://localhost:8080/"
        },
        "id": "piLiaautSp7z",
        "outputId": "5a4f7eb6-bf51-4792-e8b5-5ab126ec7da9"
      },
      "id": "piLiaautSp7z",
      "execution_count": null,
      "outputs": [
        {
          "output_type": "stream",
          "name": "stdout",
          "text": [
            "🔎 LLM Output:\n",
            " {\n",
            "  \"cves\": [\"CVE-2023-12345\", \"CVE-2022-9999\"]\n",
            "}\n"
          ]
        }
      ]
    },
    {
      "cell_type": "markdown",
      "source": [
        "## 🧠 Why This Matters\n",
        "\n",
        "Large Language Models are highly sensitive to the way you structure prompts.  \n",
        "In security use cases — like extracting CVEs from messy logs — it's important to:\n",
        "\n",
        "- Minimize ambiguity\n",
        "- Provide format expectations\n",
        "- Isolate the actual task from the noise"
      ],
      "metadata": {
        "id": "F7qZCpycHFzL"
      },
      "id": "F7qZCpycHFzL"
    },
    {
      "cell_type": "markdown",
      "source": [
        "## 2. Secure Code Review with GenAI\n",
        "\n",
        "\n"
      ],
      "metadata": {
        "id": "Ygi7ct1PPSFv"
      },
      "id": "Ygi7ct1PPSFv"
    },
    {
      "cell_type": "code",
      "source": [
        "# Insecure code to review\n",
        "code_snippet = \"\"\"\n",
        "def authenticate(user, password):\n",
        "    if password == \"admin123\":\n",
        "        return True\n",
        "    return False\n",
        "\"\"\"\n",
        "\n",
        "# Prompt for secure code analysis\n",
        "prompt = f\"\"\"\n",
        "You are a secure code reviewer.\n",
        "\n",
        "Analyze the following Python function for security issues and respond with:\n",
        "1. Identified vulnerabilities\n",
        "2. Mapped OWASP Top 10 category (2021)\n",
        "3. Estimated CVSS score (if applicable)\n",
        "4. Recommendations for fixing\n",
        "5. A corrected version of the code\n",
        "\n",
        "Code:\n",
        "'''{code_snippet}'''\n",
        "\n",
        "Respond in this JSON format:\n",
        "{{\n",
        "  \"vulnerabilities\": [\"...\"],\n",
        "  \"owasp_mapping\": [\"...\"],\n",
        "  \"cvss_estimate\": \"X.X\",\n",
        "  \"recommendations\": \"...\",\n",
        "  \"fixed_code\": \\\"\\\"\\\"...\\\"\\\"\\\"\n",
        "}}\n",
        "\"\"\"\n",
        "\n",
        "# Call OpenAI Chat API\n",
        "response = client.chat.completions.create(\n",
        "    model=\"gpt-4\",  # or \"gpt-3.5-turbo\"\n",
        "    messages=[{\"role\": \"user\", \"content\": prompt}],\n",
        "    temperature=0.2\n",
        ")\n",
        "\n",
        "# Output the result\n",
        "print(response.choices[0].message.content)"
      ],
      "metadata": {
        "colab": {
          "base_uri": "https://localhost:8080/"
        },
        "id": "KIFdC4T0GEC1",
        "outputId": "44bd1877-9584-4b01-afa4-d2568a8e50f0"
      },
      "id": "KIFdC4T0GEC1",
      "execution_count": null,
      "outputs": [
        {
          "output_type": "stream",
          "name": "stdout",
          "text": [
            "{\n",
            "  \"vulnerabilities\": [\"Hard-coded credentials\"],\n",
            "  \"owasp_mapping\": [\"A3:2021-Injection\"],\n",
            "  \"cvss_estimate\": \"9.8\",\n",
            "  \"recommendations\": \"Never hard-code credentials in your code. Instead, use secure methods for storing and retrieving credentials. Implement a proper authentication system that securely stores and checks user credentials. Hash and salt passwords for storage. Use a library or framework that has been designed to provide secure authentication features.\",\n",
            "  \"fixed_code\": \"\"\"\n",
            "def authenticate(user, password):\n",
            "    # This is a placeholder for the actual implementation\n",
            "    # In a real-world application, you would use a secure method to store and check passwords\n",
            "    # For example, you might store a hash of the password and compare it to a hash of the input\n",
            "    stored_password_hash = get_password_hash_for_user(user)\n",
            "    input_password_hash = hash_password(password)\n",
            "    if stored_password_hash == input_password_hash:\n",
            "        return True\n",
            "    return False\n",
            "\"\"\"\n",
            "}\n"
          ]
        }
      ]
    },
    {
      "cell_type": "markdown",
      "source": [
        "## 📋 Review the Results\n",
        "\n",
        "Now that the LLM has provided a secure code analysis, let’s:\n",
        "\n",
        "- Clean and parse the JSON response\n",
        "- Fix formatting issues (like escaped characters in the returned code)\n",
        "- Display the results as a readable table\n",
        "\n",
        "This makes it easier to verify what the model found, how it mapped to OWASP Top 10, and whether the recommendations make sense.\n",
        "\n",
        "> 💡 This step simulates how GenAI results could be integrated into code review dashboards or CI/CD pipelines.\n"
      ],
      "metadata": {
        "id": "ASW0C9rE-w6I"
      },
      "id": "ASW0C9rE-w6I"
    },
    {
      "cell_type": "code",
      "source": [
        "import json\n",
        "import re\n",
        "import pandas as pd\n",
        "\n",
        "def clean_openai_json(raw_output):\n",
        "    # Step 1: Extract the JSON object using regex\n",
        "    match = re.search(r\"\\{.*\\}\", raw_output, re.DOTALL)\n",
        "    if not match:\n",
        "        raise ValueError(\"No JSON object found in response.\")\n",
        "\n",
        "    json_text = match.group()\n",
        "\n",
        "    # Step 2: Replace triple-quoted code block with escaped string\n",
        "    json_text = re.sub(\n",
        "        r'\\\"\\\"\\\"(.*?)\\\"\\\"\\\"',\n",
        "        lambda m: json.dumps(m.group(1).strip()),\n",
        "        json_text,\n",
        "        flags=re.DOTALL\n",
        "    )\n",
        "\n",
        "    return json.loads(json_text)\n",
        "\n",
        "# Example usage\n",
        "try:\n",
        "    parsed_output = clean_openai_json(response.choices[0].message.content)\n",
        "\n",
        "    # ✅ Fix newlines in code\n",
        "    parsed_output[\"fixed_code\"] = parsed_output[\"fixed_code\"].encode().decode(\"unicode_escape\")\n",
        "\n",
        "    # ✅ Convert to a clean DataFrame\n",
        "    df = pd.DataFrame([{\n",
        "        \"vulnerabilities\": \"; \".join(parsed_output.get(\"vulnerabilities\", [])),\n",
        "        \"owasp_mapping\": \"; \".join(parsed_output.get(\"owasp_mapping\", [])),\n",
        "        \"cvss_estimate\": parsed_output.get(\"cvss_estimate\", \"\"),\n",
        "        \"recommendations\": parsed_output.get(\"recommendations\", \"\"),\n",
        "        \"fixed_code\": parsed_output.get(\"fixed_code\", \"\")\n",
        "    }])\n",
        "\n",
        "    # Print as DataFrame (can also use display(df) in notebooks)\n",
        "    print(\"\\n✅ Full Secure Code Review Table:\\n\")\n",
        "    print(df.to_markdown(index=False))\n",
        "\n",
        "except Exception as e:\n",
        "    print(\"❌ Failed to clean/parse:\", e)\n"
      ],
      "metadata": {
        "colab": {
          "base_uri": "https://localhost:8080/"
        },
        "id": "dPvA5Q9ZPyl4",
        "outputId": "e4ee43f7-df8d-4f31-b4b1-ff76c09e7ff0"
      },
      "id": "dPvA5Q9ZPyl4",
      "execution_count": null,
      "outputs": [
        {
          "output_type": "stream",
          "name": "stdout",
          "text": [
            "\n",
            "✅ Full Secure Code Review Table:\n",
            "\n",
            "| vulnerabilities        | owasp_mapping     |   cvss_estimate | recommendations                                                                                                                                                                                                                                                                                                                            | fixed_code                                                                                      |\n",
            "|:-----------------------|:------------------|----------------:|:-------------------------------------------------------------------------------------------------------------------------------------------------------------------------------------------------------------------------------------------------------------------------------------------------------------------------------------------|:------------------------------------------------------------------------------------------------|\n",
            "| Hard-coded credentials | A3:2021-Injection |             9.8 | Never hard-code credentials in your code. Instead, use secure methods for storing and retrieving credentials. Implement a proper authentication system that securely stores and checks user credentials. Hash and salt passwords for storage. Use a library or framework that has been designed to provide secure authentication features. | def authenticate(user, password):                                                               |\n",
            "|                        |                   |                 |                                                                                                                                                                                                                                                                                                                                            |     # This is a placeholder for the actual implementation                                       |\n",
            "|                        |                   |                 |                                                                                                                                                                                                                                                                                                                                            |     # In a real-world application, you would use a secure method to store and check passwords   |\n",
            "|                        |                   |                 |                                                                                                                                                                                                                                                                                                                                            |     # For example, you might store a hash of the password and compare it to a hash of the input |\n",
            "|                        |                   |                 |                                                                                                                                                                                                                                                                                                                                            |     stored_password_hash = get_password_hash_for_user(user)                                     |\n",
            "|                        |                   |                 |                                                                                                                                                                                                                                                                                                                                            |     input_password_hash = hash_password(password)                                               |\n",
            "|                        |                   |                 |                                                                                                                                                                                                                                                                                                                                            |     if stored_password_hash == input_password_hash:                                             |\n",
            "|                        |                   |                 |                                                                                                                                                                                                                                                                                                                                            |         return True                                                                             |\n",
            "|                        |                   |                 |                                                                                                                                                                                                                                                                                                                                            |     return False                                                                                |\n"
          ]
        }
      ]
    },
    {
      "cell_type": "markdown",
      "source": [
        "### 3. PII Redaction"
      ],
      "metadata": {
        "id": "a-Mb1mo_UmtF"
      },
      "id": "a-Mb1mo_UmtF"
    },
    {
      "cell_type": "markdown",
      "source": [
        "#### **SpaCy / Regex**"
      ],
      "metadata": {
        "id": "qh6PTe4pU4ZJ"
      },
      "id": "qh6PTe4pU4ZJ"
    },
    {
      "cell_type": "markdown",
      "source": [
        "## 🛡️ PII Redaction Using spaCy + Regex\n",
        "\n",
        "In this section, you’ll build a lightweight PII redaction tool using `spaCy` for Named Entity Recognition (NER) and regular expressions for custom pattern matching (e.g., emails, phone numbers, addresses).\n",
        "\n",
        "spaCy is a free open-source library for Natural Language Processing in Python. It features NER, POS tagging, dependency parsing, word vectors and more.\n",
        "\n",
        "---\n",
        "\n",
        "### 🔍 Why Use spaCy for PII Detection?\n",
        "\n",
        "✅ **Pre-trained NER:** Detects entities like names, organizations, dates, and locations  \n",
        "✅ **Regex Flexibility:** Easily extend redaction to custom patterns (SSNs, IPs, etc.)  \n",
        "✅ **Lightweight & Fast:** Ideal for real-time or local processing  \n",
        "✅ **No LLM required:** Works without external APIs\n",
        "\n",
        "---\n",
        "\n",
        "### 🔧 Installation\n",
        "\n",
        "Run the following to install spaCy and download the English language model:\n",
        "\n",
        "```bash\n",
        "pip install spacy --quiet\n",
        "python -m spacy download en_core_web_sm\n"
      ],
      "metadata": {
        "id": "UzEOC895uSsE"
      },
      "id": "UzEOC895uSsE"
    },
    {
      "cell_type": "markdown",
      "source": [
        "📚 References\n",
        "\n",
        "[spaCy Official Docs](https://www.google.com/url?q=https%3A%2F%2Fspacy.io%2F)\n",
        "\n",
        "[NER Overview](https://spacy.io/usage/linguistic-features#named-entities)\n",
        "\n",
        "[spaCy API Reference](https://spacy.io/api)"
      ],
      "metadata": {
        "id": "5Agw0qX5AVcV"
      },
      "id": "5Agw0qX5AVcV"
    },
    {
      "cell_type": "code",
      "source": [
        "!pip install spacy --quiet\n",
        "!python -m spacy download en_core_web_sm --quiet"
      ],
      "metadata": {
        "colab": {
          "base_uri": "https://localhost:8080/"
        },
        "id": "u-c6E9WJQC3P",
        "outputId": "b4982d78-d158-456c-8aeb-56d38e045754"
      },
      "id": "u-c6E9WJQC3P",
      "execution_count": null,
      "outputs": [
        {
          "output_type": "stream",
          "name": "stdout",
          "text": [
            "\u001b[2K     \u001b[90m━━━━━━━━━━━━━━━━━━━━━━━━━━━━━━━━━━━━━━━━\u001b[0m \u001b[32m12.8/12.8 MB\u001b[0m \u001b[31m56.3 MB/s\u001b[0m eta \u001b[36m0:00:00\u001b[0m\n",
            "\u001b[?25h\u001b[38;5;2m✔ Download and installation successful\u001b[0m\n",
            "You can now load the package via spacy.load('en_core_web_sm')\n",
            "\u001b[38;5;3m⚠ Restart to reload dependencies\u001b[0m\n",
            "If you are in a Jupyter or Colab notebook, you may need to restart Python in\n",
            "order to load all the package's dependencies. You can do this by selecting the\n",
            "'Restart kernel' or 'Restart runtime' option.\n"
          ]
        }
      ]
    },
    {
      "cell_type": "code",
      "source": [
        "import spacy\n",
        "import re\n",
        "\n",
        "# Load spaCy model\n",
        "nlp = spacy.load(\"en_core_web_sm\")\n",
        "\n",
        "# Define a function to redact PII\n",
        "def redact_pii(text):\n",
        "    doc = nlp(text)\n",
        "    redacted_text = text\n",
        "\n",
        "    # Named Entity Recognition (NER)-based redaction\n",
        "    for ent in doc.ents:\n",
        "        if ent.label_ in [\"PERSON\", \"GPE\", \"ORG\", \"LOC\", \"DATE\", \"EMAIL\"]:\n",
        "            redacted_text = redacted_text.replace(ent.text, f\"[REDACTED-{ent.label_}]\")\n",
        "\n",
        "    # Regex-based redaction\n",
        "    patterns = {\n",
        "        \"PHONE\": r\"\\b\\d{3}[-.\\s]??\\d{3}[-.\\s]??\\d{4}\\b\",\n",
        "        \"EMAIL\": r\"[a-zA-Z0-9_.+-]+@[a-zA-Z0-9-]+\\.[a-zA-Z0-9-.]+\",\n",
        "        \"ADDRESS\": r\"\\d{1,5}\\s\\w+\\s\\w+\\.?\",  # rough pattern\n",
        "    }\n",
        "\n",
        "    for label, pattern in patterns.items():\n",
        "        redacted_text = re.sub(pattern, f\"[REDACTED-{label}]\", redacted_text)\n",
        "\n",
        "    return redacted_text\n"
      ],
      "metadata": {
        "id": "i26h9uqKUrq2"
      },
      "id": "i26h9uqKUrq2",
      "execution_count": null,
      "outputs": []
    },
    {
      "cell_type": "code",
      "source": [
        "sample_text = \"\"\"\n",
        "Hi, my name is Alice Johnson. You can email me at alice.j@example.com or call me at 555-123-4567.\n",
        "I live at 42 Elm Street, Springfield. I work for OpenAI.\n",
        "\"\"\"\n",
        "\n",
        "safe_text = redact_pii(sample_text)\n",
        "\n",
        "print(\"✅ Redacted Text:\\n\")\n",
        "print(safe_text)\n"
      ],
      "metadata": {
        "colab": {
          "base_uri": "https://localhost:8080/"
        },
        "id": "p6FDLRB5UxV3",
        "outputId": "7c56a3c7-4e9e-4efb-a254-1675f1376432"
      },
      "id": "p6FDLRB5UxV3",
      "execution_count": null,
      "outputs": [
        {
          "output_type": "stream",
          "name": "stdout",
          "text": [
            "✅ Redacted Text:\n",
            "\n",
            "\n",
            "Hi, my name is [REDACTED-PERSON]. You can email me at [REDACTED-ORG] or call me at [REDACTED-PHONE].\n",
            "I live at [REDACTED-ADDRESS], [REDACTED-GPE]. I work for [REDACTED-PERSON].\n",
            "\n"
          ]
        }
      ]
    },
    {
      "cell_type": "markdown",
      "source": [
        "#### **DSPy Framework**"
      ],
      "metadata": {
        "id": "DJysaWLZVXYQ"
      },
      "id": "DJysaWLZVXYQ"
    },
    {
      "cell_type": "markdown",
      "source": [
        "## 🤖 PII Redaction Using DSPy (LLM + Chain of Thought)\n",
        "\n",
        "Now let’s explore how to use **DSPy**, a structured prompting framework from Stanford, to redact PII using large language models. “DSPy is a framework for programming LLMs declaratively — meaning, instead of crafting one perfect prompt, you define modules and constraints, then let DSPy optimize them automatically with your examples.”\n",
        "\n",
        "Instead of rule-based patterns, DSPy lets you:\n",
        "- Define **input/output schemas** for clean and consistent behavior\n",
        "- Use **Chain of Thought reasoning** to break down and explain each step\n",
        "- Build reproducible, testable GenAI tools for redaction, extraction, and more\n",
        "\n",
        "---\n",
        "\n",
        "### 💡 Why Use DSPy for PII Tasks?\n",
        "\n",
        "✅ **Schema-based prompting:** Define what the model should take in and return  \n",
        "✅ **LLM-first design:** Easy integration with OpenAI, Claude, Mistral, etc.  \n",
        "✅ **Chain of Thought support:** Helps with explainability and traceability  \n",
        "✅ **Ideal for security + compliance workflows:** Enforce structured outputs\n",
        "\n",
        "---\n",
        "\n",
        "### 🔧 Installation\n",
        "\n",
        "To install DSPy, run:\n",
        "\n",
        "```bash\n",
        "pip install -U dspy-ai --quiet\n"
      ],
      "metadata": {
        "id": "YrRqjkFVBB_U"
      },
      "id": "YrRqjkFVBB_U"
    },
    {
      "cell_type": "markdown",
      "source": [
        "References:\n",
        "*   https://dspy.ai/\n",
        "*   https://dspy.ai/community/use-cases/"
      ],
      "metadata": {
        "id": "YqE48-nuBIcj"
      },
      "id": "YqE48-nuBIcj"
    },
    {
      "cell_type": "code",
      "source": [
        "!pip install -U dspy-ai --quiet"
      ],
      "metadata": {
        "id": "DPAaX6D0VcjQ",
        "colab": {
          "base_uri": "https://localhost:8080/"
        },
        "outputId": "47adb5a2-e97b-473e-ff0d-395949c00142"
      },
      "id": "DPAaX6D0VcjQ",
      "execution_count": null,
      "outputs": [
        {
          "output_type": "stream",
          "name": "stdout",
          "text": [
            "\u001b[2K     \u001b[90m━━━━━━━━━━━━━━━━━━━━━━━━━━━━━━━━━━━━━━━━\u001b[0m \u001b[32m40.7/40.7 kB\u001b[0m \u001b[31m2.4 MB/s\u001b[0m eta \u001b[36m0:00:00\u001b[0m\n",
            "\u001b[2K   \u001b[90m━━━━━━━━━━━━━━━━━━━━━━━━━━━━━━━━━━━━━━━━\u001b[0m \u001b[32m297.3/297.3 kB\u001b[0m \u001b[31m7.4 MB/s\u001b[0m eta \u001b[36m0:00:00\u001b[0m\n",
            "\u001b[2K   \u001b[90m━━━━━━━━━━━━━━━━━━━━━━━━━━━━━━━━━━━━━━━━\u001b[0m \u001b[32m45.5/45.5 kB\u001b[0m \u001b[31m2.7 MB/s\u001b[0m eta \u001b[36m0:00:00\u001b[0m\n",
            "\u001b[2K   \u001b[90m━━━━━━━━━━━━━━━━━━━━━━━━━━━━━━━━━━━━━━━━\u001b[0m \u001b[32m8.9/8.9 MB\u001b[0m \u001b[31m74.3 MB/s\u001b[0m eta \u001b[36m0:00:00\u001b[0m\n",
            "\u001b[2K   \u001b[90m━━━━━━━━━━━━━━━━━━━━━━━━━━━━━━━━━━━━━━━━\u001b[0m \u001b[32m395.9/395.9 kB\u001b[0m \u001b[31m24.6 MB/s\u001b[0m eta \u001b[36m0:00:00\u001b[0m\n",
            "\u001b[2K   \u001b[90m━━━━━━━━━━━━━━━━━━━━━━━━━━━━━━━━━━━━━━━━\u001b[0m \u001b[32m53.6/53.6 kB\u001b[0m \u001b[31m3.7 MB/s\u001b[0m eta \u001b[36m0:00:00\u001b[0m\n",
            "\u001b[2K   \u001b[90m━━━━━━━━━━━━━━━━━━━━━━━━━━━━━━━━━━━━━━━━\u001b[0m \u001b[32m247.0/247.0 kB\u001b[0m \u001b[31m16.4 MB/s\u001b[0m eta \u001b[36m0:00:00\u001b[0m\n",
            "\u001b[?25h"
          ]
        }
      ]
    },
    {
      "cell_type": "code",
      "source": [
        "import dspy\n",
        "import os\n",
        "\n",
        "# Securely load your API key\n",
        "os.environ[\"OPENAI_API_KEY\"] = userdata.get('openai.api_key')\n",
        "\n",
        "# Initialize the LLM interface using the proper API\n",
        "lm = dspy.LM(\"openai/gpt-3.5-turbo\", api_key=os.environ[\"OPENAI_API_KEY\"])\n",
        "\n",
        "# Configure DSPy to use this LLM\n",
        "dspy.settings.configure(lm=lm, temperature=0.2)\n"
      ],
      "metadata": {
        "id": "imAXWSMAXQ9T"
      },
      "id": "imAXWSMAXQ9T",
      "execution_count": null,
      "outputs": []
    },
    {
      "cell_type": "code",
      "source": [
        "class PiiRedactionSig(dspy.Signature):\n",
        "    text = dspy.InputField(desc=\"Raw input text with possible PII (Name, Email, Phone, SSN, etc.)\")\n",
        "    redacted_text = dspy.OutputField(desc=\"The text with PII redacted using [REDACTED] tags\")\n",
        "    pii_entities = dspy.OutputField(desc=\"List of extracted PII values and their types in JSON\")\n"
      ],
      "metadata": {
        "id": "BHl___baXQ6v"
      },
      "id": "BHl___baXQ6v",
      "execution_count": null,
      "outputs": []
    },
    {
      "cell_type": "code",
      "source": [
        "redactor = dspy.ChainOfThought(PiiRedactionSig)\n",
        "result = redactor(text=\"My name is Alice. Email: alice@example.com. SSN: 123-45-6789.\")\n",
        "\n",
        "print(\"🔒 Redacted:\\n\", result.redacted_text)\n",
        "print(\"📋 Entities:\\n\", result.pii_entities)\n"
      ],
      "metadata": {
        "colab": {
          "base_uri": "https://localhost:8080/"
        },
        "id": "sORcfLnjXQ39",
        "outputId": "89e4cc2a-5611-4361-bc7f-fca602b72ba7"
      },
      "id": "sORcfLnjXQ39",
      "execution_count": null,
      "outputs": [
        {
          "output_type": "stream",
          "name": "stdout",
          "text": [
            "🔒 Redacted:\n",
            " My name is [REDACTED]. Email: [REDACTED]. SSN: [REDACTED].\n",
            "📋 Entities:\n",
            " {\"Name\": \"Alice\", \"Email\": \"alice@example.com\", \"SSN\": \"123-45-6789\"}\n"
          ]
        }
      ]
    },
    {
      "cell_type": "code",
      "source": [
        "#result.rationale"
      ],
      "metadata": {
        "id": "0r0b2HPSP1DF"
      },
      "id": "0r0b2HPSP1DF",
      "execution_count": null,
      "outputs": []
    },
    {
      "cell_type": "code",
      "source": [
        "test_texts = [\n",
        "    \"My name is Alice. Email: alice@example.com. SSN: 123-45-6789.\",\n",
        "    \"Contact John via john.doe@gmail.com. He lives at 123 Main St.\",\n",
        "    \"Sarah's phone number is 555-123-4567 and her address is 55 Sunset Blvd.\",\n",
        "    \"James works at Google. His email is james@google.com.\",\n",
        "    \"Emma lives in San Francisco, California. Her number is 415-555-7890.\",\n",
        "    \"Liam's passport number is X12345678.\",\n",
        "    \"Olivia’s home is 98 Hill Rd, Boston. Reach her at olivia.b@example.com.\",\n",
        "    \"William was born on 01/15/1990 and his SSN is 321-54-9876.\",\n",
        "    \"Ava’s insurance policy number is INSU123456789.\",\n",
        "    \"Mason’s IP address is 192.168.1.100.\",\n",
        "    \"Isabella has a crypto wallet: 0x5FbDB2315678afecb367f032d93F642f64180aa3\",\n",
        "    \"Ethan submitted his driver's license: D12345678.\",\n",
        "    \"Mia registered from device ID: DEV-77889900.\",\n",
        "    \"Sophia’s card number is 4111-1111-1111-1111.\"\n",
        "]\n"
      ],
      "metadata": {
        "id": "ADjXHZgHXQse"
      },
      "id": "ADjXHZgHXQse",
      "execution_count": null,
      "outputs": []
    },
    {
      "cell_type": "code",
      "source": [
        "results = []\n",
        "\n",
        "for idx, line in enumerate(test_texts, 1):\n",
        "    try:\n",
        "        output = redactor(text=line)\n",
        "        results.append({\n",
        "            \"Input\": line,\n",
        "            \"Redacted\": output.redacted_text,\n",
        "            \"Entities\": output.pii_entities\n",
        "        })\n",
        "    except Exception as e:\n",
        "        results.append({\n",
        "            \"Input\": line,\n",
        "            \"Redacted\": \"ERROR\",\n",
        "            \"Entities\": str(e)\n",
        "        })\n"
      ],
      "metadata": {
        "id": "CYHFZXMkXoM8"
      },
      "id": "CYHFZXMkXoM8",
      "execution_count": null,
      "outputs": []
    },
    {
      "cell_type": "code",
      "source": [
        "import pandas as pd\n",
        "import IPython.display as display\n",
        "\n",
        "df = pd.DataFrame(results)\n",
        "display.display(df)"
      ],
      "metadata": {
        "colab": {
          "base_uri": "https://localhost:8080/",
          "height": 488
        },
        "id": "9Cz3solPwrEu",
        "outputId": "0b7f3482-eee9-4854-8f15-7d523b1b0c12"
      },
      "id": "9Cz3solPwrEu",
      "execution_count": null,
      "outputs": [
        {
          "output_type": "display_data",
          "data": {
            "text/plain": [
              "                                                Input  \\\n",
              "0   My name is Alice. Email: alice@example.com. SS...   \n",
              "1   Contact John via john.doe@gmail.com. He lives ...   \n",
              "2   Sarah's phone number is 555-123-4567 and her a...   \n",
              "3   James works at Google. His email is james@goog...   \n",
              "4   Emma lives in San Francisco, California. Her n...   \n",
              "5                Liam's passport number is X12345678.   \n",
              "6   Olivia’s home is 98 Hill Rd, Boston. Reach her...   \n",
              "7   William was born on 01/15/1990 and his SSN is ...   \n",
              "8     Ava’s insurance policy number is INSU123456789.   \n",
              "9                Mason’s IP address is 192.168.1.100.   \n",
              "10  Isabella has a crypto wallet: 0x5FbDB2315678af...   \n",
              "11   Ethan submitted his driver's license: D12345678.   \n",
              "12       Mia registered from device ID: DEV-77889900.   \n",
              "13       Sophia’s card number is 4111-1111-1111-1111.   \n",
              "\n",
              "                                             Redacted  \\\n",
              "0   My name is [REDACTED]. Email: [REDACTED]. SSN:...   \n",
              "1   Contact [REDACTED] via [REDACTED]. He lives at...   \n",
              "2   Sarah's phone number is [REDACTED] and her add...   \n",
              "3     James works at Google. His email is [REDACTED].   \n",
              "4   Emma lives in San Francisco, California. Her n...   \n",
              "5               Liam's passport number is [REDACTED].   \n",
              "6   [REDACTED]'s home is [REDACTED], Boston. Reach...   \n",
              "7   William was born on [REDACTED] and his SSN is ...   \n",
              "8        Ava’s insurance policy number is [REDACTED].   \n",
              "9                   Mason’s IP address is [REDACTED].   \n",
              "10           Isabella has a crypto wallet: [REDACTED]   \n",
              "11  Ethan submitted his driver's license: [REDACTED].   \n",
              "12         Mia registered from device ID: [REDACTED].   \n",
              "13                Sophia’s card number is [REDACTED].   \n",
              "\n",
              "                                             Entities  \n",
              "0   {\"Name\": \"Alice\", \"Email\": \"alice@example.com\"...  \n",
              "1   {\"Name\": \"John\", \"Email\": \"john.doe@gmail.com\"...  \n",
              "2   {\"PHONE_NUMBER\": \"555-123-4567\", \"ADDRESS\": \"5...  \n",
              "3                       {\"email\": \"james@google.com\"}  \n",
              "4                    {\"phone_number\": \"415-555-7890\"}  \n",
              "5                    {\"X12345678\": \"Passport Number\"}  \n",
              "6   {\"Name\": \"Olivia\", \"Address\": \"98 Hill Rd, Bos...  \n",
              "7         {\"DOB\": \"01/15/1990\", \"SSN\": \"321-54-9876\"}  \n",
              "8        {\"INSU123456789\": \"Insurance Policy Number\"}  \n",
              "9                   {\"IP address\": [\"192.168.1.100\"]}  \n",
              "10  {\"0x5FbDB2315678afecb367f032d93F642f64180aa3\":...  \n",
              "11           {\"D12345678\": \"Driver's License Number\"}  \n",
              "12                      {\"DEV-77889900\": \"Device ID\"}  \n",
              "13      {\"Credit Card Number\": \"4111-1111-1111-1111\"}  "
            ],
            "text/html": [
              "\n",
              "  <div id=\"df-29595ff2-f245-4ec3-9834-f583a9b7ee68\" class=\"colab-df-container\">\n",
              "    <div>\n",
              "<style scoped>\n",
              "    .dataframe tbody tr th:only-of-type {\n",
              "        vertical-align: middle;\n",
              "    }\n",
              "\n",
              "    .dataframe tbody tr th {\n",
              "        vertical-align: top;\n",
              "    }\n",
              "\n",
              "    .dataframe thead th {\n",
              "        text-align: right;\n",
              "    }\n",
              "</style>\n",
              "<table border=\"1\" class=\"dataframe\">\n",
              "  <thead>\n",
              "    <tr style=\"text-align: right;\">\n",
              "      <th></th>\n",
              "      <th>Input</th>\n",
              "      <th>Redacted</th>\n",
              "      <th>Entities</th>\n",
              "    </tr>\n",
              "  </thead>\n",
              "  <tbody>\n",
              "    <tr>\n",
              "      <th>0</th>\n",
              "      <td>My name is Alice. Email: alice@example.com. SS...</td>\n",
              "      <td>My name is [REDACTED]. Email: [REDACTED]. SSN:...</td>\n",
              "      <td>{\"Name\": \"Alice\", \"Email\": \"alice@example.com\"...</td>\n",
              "    </tr>\n",
              "    <tr>\n",
              "      <th>1</th>\n",
              "      <td>Contact John via john.doe@gmail.com. He lives ...</td>\n",
              "      <td>Contact [REDACTED] via [REDACTED]. He lives at...</td>\n",
              "      <td>{\"Name\": \"John\", \"Email\": \"john.doe@gmail.com\"...</td>\n",
              "    </tr>\n",
              "    <tr>\n",
              "      <th>2</th>\n",
              "      <td>Sarah's phone number is 555-123-4567 and her a...</td>\n",
              "      <td>Sarah's phone number is [REDACTED] and her add...</td>\n",
              "      <td>{\"PHONE_NUMBER\": \"555-123-4567\", \"ADDRESS\": \"5...</td>\n",
              "    </tr>\n",
              "    <tr>\n",
              "      <th>3</th>\n",
              "      <td>James works at Google. His email is james@goog...</td>\n",
              "      <td>James works at Google. His email is [REDACTED].</td>\n",
              "      <td>{\"email\": \"james@google.com\"}</td>\n",
              "    </tr>\n",
              "    <tr>\n",
              "      <th>4</th>\n",
              "      <td>Emma lives in San Francisco, California. Her n...</td>\n",
              "      <td>Emma lives in San Francisco, California. Her n...</td>\n",
              "      <td>{\"phone_number\": \"415-555-7890\"}</td>\n",
              "    </tr>\n",
              "    <tr>\n",
              "      <th>5</th>\n",
              "      <td>Liam's passport number is X12345678.</td>\n",
              "      <td>Liam's passport number is [REDACTED].</td>\n",
              "      <td>{\"X12345678\": \"Passport Number\"}</td>\n",
              "    </tr>\n",
              "    <tr>\n",
              "      <th>6</th>\n",
              "      <td>Olivia’s home is 98 Hill Rd, Boston. Reach her...</td>\n",
              "      <td>[REDACTED]'s home is [REDACTED], Boston. Reach...</td>\n",
              "      <td>{\"Name\": \"Olivia\", \"Address\": \"98 Hill Rd, Bos...</td>\n",
              "    </tr>\n",
              "    <tr>\n",
              "      <th>7</th>\n",
              "      <td>William was born on 01/15/1990 and his SSN is ...</td>\n",
              "      <td>William was born on [REDACTED] and his SSN is ...</td>\n",
              "      <td>{\"DOB\": \"01/15/1990\", \"SSN\": \"321-54-9876\"}</td>\n",
              "    </tr>\n",
              "    <tr>\n",
              "      <th>8</th>\n",
              "      <td>Ava’s insurance policy number is INSU123456789.</td>\n",
              "      <td>Ava’s insurance policy number is [REDACTED].</td>\n",
              "      <td>{\"INSU123456789\": \"Insurance Policy Number\"}</td>\n",
              "    </tr>\n",
              "    <tr>\n",
              "      <th>9</th>\n",
              "      <td>Mason’s IP address is 192.168.1.100.</td>\n",
              "      <td>Mason’s IP address is [REDACTED].</td>\n",
              "      <td>{\"IP address\": [\"192.168.1.100\"]}</td>\n",
              "    </tr>\n",
              "    <tr>\n",
              "      <th>10</th>\n",
              "      <td>Isabella has a crypto wallet: 0x5FbDB2315678af...</td>\n",
              "      <td>Isabella has a crypto wallet: [REDACTED]</td>\n",
              "      <td>{\"0x5FbDB2315678afecb367f032d93F642f64180aa3\":...</td>\n",
              "    </tr>\n",
              "    <tr>\n",
              "      <th>11</th>\n",
              "      <td>Ethan submitted his driver's license: D12345678.</td>\n",
              "      <td>Ethan submitted his driver's license: [REDACTED].</td>\n",
              "      <td>{\"D12345678\": \"Driver's License Number\"}</td>\n",
              "    </tr>\n",
              "    <tr>\n",
              "      <th>12</th>\n",
              "      <td>Mia registered from device ID: DEV-77889900.</td>\n",
              "      <td>Mia registered from device ID: [REDACTED].</td>\n",
              "      <td>{\"DEV-77889900\": \"Device ID\"}</td>\n",
              "    </tr>\n",
              "    <tr>\n",
              "      <th>13</th>\n",
              "      <td>Sophia’s card number is 4111-1111-1111-1111.</td>\n",
              "      <td>Sophia’s card number is [REDACTED].</td>\n",
              "      <td>{\"Credit Card Number\": \"4111-1111-1111-1111\"}</td>\n",
              "    </tr>\n",
              "  </tbody>\n",
              "</table>\n",
              "</div>\n",
              "    <div class=\"colab-df-buttons\">\n",
              "\n",
              "  <div class=\"colab-df-container\">\n",
              "    <button class=\"colab-df-convert\" onclick=\"convertToInteractive('df-29595ff2-f245-4ec3-9834-f583a9b7ee68')\"\n",
              "            title=\"Convert this dataframe to an interactive table.\"\n",
              "            style=\"display:none;\">\n",
              "\n",
              "  <svg xmlns=\"http://www.w3.org/2000/svg\" height=\"24px\" viewBox=\"0 -960 960 960\">\n",
              "    <path d=\"M120-120v-720h720v720H120Zm60-500h600v-160H180v160Zm220 220h160v-160H400v160Zm0 220h160v-160H400v160ZM180-400h160v-160H180v160Zm440 0h160v-160H620v160ZM180-180h160v-160H180v160Zm440 0h160v-160H620v160Z\"/>\n",
              "  </svg>\n",
              "    </button>\n",
              "\n",
              "  <style>\n",
              "    .colab-df-container {\n",
              "      display:flex;\n",
              "      gap: 12px;\n",
              "    }\n",
              "\n",
              "    .colab-df-convert {\n",
              "      background-color: #E8F0FE;\n",
              "      border: none;\n",
              "      border-radius: 50%;\n",
              "      cursor: pointer;\n",
              "      display: none;\n",
              "      fill: #1967D2;\n",
              "      height: 32px;\n",
              "      padding: 0 0 0 0;\n",
              "      width: 32px;\n",
              "    }\n",
              "\n",
              "    .colab-df-convert:hover {\n",
              "      background-color: #E2EBFA;\n",
              "      box-shadow: 0px 1px 2px rgba(60, 64, 67, 0.3), 0px 1px 3px 1px rgba(60, 64, 67, 0.15);\n",
              "      fill: #174EA6;\n",
              "    }\n",
              "\n",
              "    .colab-df-buttons div {\n",
              "      margin-bottom: 4px;\n",
              "    }\n",
              "\n",
              "    [theme=dark] .colab-df-convert {\n",
              "      background-color: #3B4455;\n",
              "      fill: #D2E3FC;\n",
              "    }\n",
              "\n",
              "    [theme=dark] .colab-df-convert:hover {\n",
              "      background-color: #434B5C;\n",
              "      box-shadow: 0px 1px 3px 1px rgba(0, 0, 0, 0.15);\n",
              "      filter: drop-shadow(0px 1px 2px rgba(0, 0, 0, 0.3));\n",
              "      fill: #FFFFFF;\n",
              "    }\n",
              "  </style>\n",
              "\n",
              "    <script>\n",
              "      const buttonEl =\n",
              "        document.querySelector('#df-29595ff2-f245-4ec3-9834-f583a9b7ee68 button.colab-df-convert');\n",
              "      buttonEl.style.display =\n",
              "        google.colab.kernel.accessAllowed ? 'block' : 'none';\n",
              "\n",
              "      async function convertToInteractive(key) {\n",
              "        const element = document.querySelector('#df-29595ff2-f245-4ec3-9834-f583a9b7ee68');\n",
              "        const dataTable =\n",
              "          await google.colab.kernel.invokeFunction('convertToInteractive',\n",
              "                                                    [key], {});\n",
              "        if (!dataTable) return;\n",
              "\n",
              "        const docLinkHtml = 'Like what you see? Visit the ' +\n",
              "          '<a target=\"_blank\" href=https://colab.research.google.com/notebooks/data_table.ipynb>data table notebook</a>'\n",
              "          + ' to learn more about interactive tables.';\n",
              "        element.innerHTML = '';\n",
              "        dataTable['output_type'] = 'display_data';\n",
              "        await google.colab.output.renderOutput(dataTable, element);\n",
              "        const docLink = document.createElement('div');\n",
              "        docLink.innerHTML = docLinkHtml;\n",
              "        element.appendChild(docLink);\n",
              "      }\n",
              "    </script>\n",
              "  </div>\n",
              "\n",
              "\n",
              "    <div id=\"df-7606e83e-1853-479a-abcd-3064b0b4170f\">\n",
              "      <button class=\"colab-df-quickchart\" onclick=\"quickchart('df-7606e83e-1853-479a-abcd-3064b0b4170f')\"\n",
              "                title=\"Suggest charts\"\n",
              "                style=\"display:none;\">\n",
              "\n",
              "<svg xmlns=\"http://www.w3.org/2000/svg\" height=\"24px\"viewBox=\"0 0 24 24\"\n",
              "     width=\"24px\">\n",
              "    <g>\n",
              "        <path d=\"M19 3H5c-1.1 0-2 .9-2 2v14c0 1.1.9 2 2 2h14c1.1 0 2-.9 2-2V5c0-1.1-.9-2-2-2zM9 17H7v-7h2v7zm4 0h-2V7h2v10zm4 0h-2v-4h2v4z\"/>\n",
              "    </g>\n",
              "</svg>\n",
              "      </button>\n",
              "\n",
              "<style>\n",
              "  .colab-df-quickchart {\n",
              "      --bg-color: #E8F0FE;\n",
              "      --fill-color: #1967D2;\n",
              "      --hover-bg-color: #E2EBFA;\n",
              "      --hover-fill-color: #174EA6;\n",
              "      --disabled-fill-color: #AAA;\n",
              "      --disabled-bg-color: #DDD;\n",
              "  }\n",
              "\n",
              "  [theme=dark] .colab-df-quickchart {\n",
              "      --bg-color: #3B4455;\n",
              "      --fill-color: #D2E3FC;\n",
              "      --hover-bg-color: #434B5C;\n",
              "      --hover-fill-color: #FFFFFF;\n",
              "      --disabled-bg-color: #3B4455;\n",
              "      --disabled-fill-color: #666;\n",
              "  }\n",
              "\n",
              "  .colab-df-quickchart {\n",
              "    background-color: var(--bg-color);\n",
              "    border: none;\n",
              "    border-radius: 50%;\n",
              "    cursor: pointer;\n",
              "    display: none;\n",
              "    fill: var(--fill-color);\n",
              "    height: 32px;\n",
              "    padding: 0;\n",
              "    width: 32px;\n",
              "  }\n",
              "\n",
              "  .colab-df-quickchart:hover {\n",
              "    background-color: var(--hover-bg-color);\n",
              "    box-shadow: 0 1px 2px rgba(60, 64, 67, 0.3), 0 1px 3px 1px rgba(60, 64, 67, 0.15);\n",
              "    fill: var(--button-hover-fill-color);\n",
              "  }\n",
              "\n",
              "  .colab-df-quickchart-complete:disabled,\n",
              "  .colab-df-quickchart-complete:disabled:hover {\n",
              "    background-color: var(--disabled-bg-color);\n",
              "    fill: var(--disabled-fill-color);\n",
              "    box-shadow: none;\n",
              "  }\n",
              "\n",
              "  .colab-df-spinner {\n",
              "    border: 2px solid var(--fill-color);\n",
              "    border-color: transparent;\n",
              "    border-bottom-color: var(--fill-color);\n",
              "    animation:\n",
              "      spin 1s steps(1) infinite;\n",
              "  }\n",
              "\n",
              "  @keyframes spin {\n",
              "    0% {\n",
              "      border-color: transparent;\n",
              "      border-bottom-color: var(--fill-color);\n",
              "      border-left-color: var(--fill-color);\n",
              "    }\n",
              "    20% {\n",
              "      border-color: transparent;\n",
              "      border-left-color: var(--fill-color);\n",
              "      border-top-color: var(--fill-color);\n",
              "    }\n",
              "    30% {\n",
              "      border-color: transparent;\n",
              "      border-left-color: var(--fill-color);\n",
              "      border-top-color: var(--fill-color);\n",
              "      border-right-color: var(--fill-color);\n",
              "    }\n",
              "    40% {\n",
              "      border-color: transparent;\n",
              "      border-right-color: var(--fill-color);\n",
              "      border-top-color: var(--fill-color);\n",
              "    }\n",
              "    60% {\n",
              "      border-color: transparent;\n",
              "      border-right-color: var(--fill-color);\n",
              "    }\n",
              "    80% {\n",
              "      border-color: transparent;\n",
              "      border-right-color: var(--fill-color);\n",
              "      border-bottom-color: var(--fill-color);\n",
              "    }\n",
              "    90% {\n",
              "      border-color: transparent;\n",
              "      border-bottom-color: var(--fill-color);\n",
              "    }\n",
              "  }\n",
              "</style>\n",
              "\n",
              "      <script>\n",
              "        async function quickchart(key) {\n",
              "          const quickchartButtonEl =\n",
              "            document.querySelector('#' + key + ' button');\n",
              "          quickchartButtonEl.disabled = true;  // To prevent multiple clicks.\n",
              "          quickchartButtonEl.classList.add('colab-df-spinner');\n",
              "          try {\n",
              "            const charts = await google.colab.kernel.invokeFunction(\n",
              "                'suggestCharts', [key], {});\n",
              "          } catch (error) {\n",
              "            console.error('Error during call to suggestCharts:', error);\n",
              "          }\n",
              "          quickchartButtonEl.classList.remove('colab-df-spinner');\n",
              "          quickchartButtonEl.classList.add('colab-df-quickchart-complete');\n",
              "        }\n",
              "        (() => {\n",
              "          let quickchartButtonEl =\n",
              "            document.querySelector('#df-7606e83e-1853-479a-abcd-3064b0b4170f button');\n",
              "          quickchartButtonEl.style.display =\n",
              "            google.colab.kernel.accessAllowed ? 'block' : 'none';\n",
              "        })();\n",
              "      </script>\n",
              "    </div>\n",
              "\n",
              "  <div id=\"id_9d828445-4e11-499d-a29c-9d5a687934fa\">\n",
              "    <style>\n",
              "      .colab-df-generate {\n",
              "        background-color: #E8F0FE;\n",
              "        border: none;\n",
              "        border-radius: 50%;\n",
              "        cursor: pointer;\n",
              "        display: none;\n",
              "        fill: #1967D2;\n",
              "        height: 32px;\n",
              "        padding: 0 0 0 0;\n",
              "        width: 32px;\n",
              "      }\n",
              "\n",
              "      .colab-df-generate:hover {\n",
              "        background-color: #E2EBFA;\n",
              "        box-shadow: 0px 1px 2px rgba(60, 64, 67, 0.3), 0px 1px 3px 1px rgba(60, 64, 67, 0.15);\n",
              "        fill: #174EA6;\n",
              "      }\n",
              "\n",
              "      [theme=dark] .colab-df-generate {\n",
              "        background-color: #3B4455;\n",
              "        fill: #D2E3FC;\n",
              "      }\n",
              "\n",
              "      [theme=dark] .colab-df-generate:hover {\n",
              "        background-color: #434B5C;\n",
              "        box-shadow: 0px 1px 3px 1px rgba(0, 0, 0, 0.15);\n",
              "        filter: drop-shadow(0px 1px 2px rgba(0, 0, 0, 0.3));\n",
              "        fill: #FFFFFF;\n",
              "      }\n",
              "    </style>\n",
              "    <button class=\"colab-df-generate\" onclick=\"generateWithVariable('df')\"\n",
              "            title=\"Generate code using this dataframe.\"\n",
              "            style=\"display:none;\">\n",
              "\n",
              "  <svg xmlns=\"http://www.w3.org/2000/svg\" height=\"24px\"viewBox=\"0 0 24 24\"\n",
              "       width=\"24px\">\n",
              "    <path d=\"M7,19H8.4L18.45,9,17,7.55,7,17.6ZM5,21V16.75L18.45,3.32a2,2,0,0,1,2.83,0l1.4,1.43a1.91,1.91,0,0,1,.58,1.4,1.91,1.91,0,0,1-.58,1.4L9.25,21ZM18.45,9,17,7.55Zm-12,3A5.31,5.31,0,0,0,4.9,8.1,5.31,5.31,0,0,0,1,6.5,5.31,5.31,0,0,0,4.9,4.9,5.31,5.31,0,0,0,6.5,1,5.31,5.31,0,0,0,8.1,4.9,5.31,5.31,0,0,0,12,6.5,5.46,5.46,0,0,0,6.5,12Z\"/>\n",
              "  </svg>\n",
              "    </button>\n",
              "    <script>\n",
              "      (() => {\n",
              "      const buttonEl =\n",
              "        document.querySelector('#id_9d828445-4e11-499d-a29c-9d5a687934fa button.colab-df-generate');\n",
              "      buttonEl.style.display =\n",
              "        google.colab.kernel.accessAllowed ? 'block' : 'none';\n",
              "\n",
              "      buttonEl.onclick = () => {\n",
              "        google.colab.notebook.generateWithVariable('df');\n",
              "      }\n",
              "      })();\n",
              "    </script>\n",
              "  </div>\n",
              "\n",
              "    </div>\n",
              "  </div>\n"
            ],
            "application/vnd.google.colaboratory.intrinsic+json": {
              "type": "dataframe",
              "variable_name": "df",
              "summary": "{\n  \"name\": \"df\",\n  \"rows\": 14,\n  \"fields\": [\n    {\n      \"column\": \"Input\",\n      \"properties\": {\n        \"dtype\": \"string\",\n        \"num_unique_values\": 14,\n        \"samples\": [\n          \"Mason\\u2019s IP address is 192.168.1.100.\",\n          \"Ethan submitted his driver's license: D12345678.\",\n          \"My name is Alice. Email: alice@example.com. SSN: 123-45-6789.\"\n        ],\n        \"semantic_type\": \"\",\n        \"description\": \"\"\n      }\n    },\n    {\n      \"column\": \"Redacted\",\n      \"properties\": {\n        \"dtype\": \"string\",\n        \"num_unique_values\": 14,\n        \"samples\": [\n          \"Mason\\u2019s IP address is [REDACTED].\",\n          \"Ethan submitted his driver's license: [REDACTED].\",\n          \"My name is [REDACTED]. Email: [REDACTED]. SSN: [REDACTED].\"\n        ],\n        \"semantic_type\": \"\",\n        \"description\": \"\"\n      }\n    },\n    {\n      \"column\": \"Entities\",\n      \"properties\": {\n        \"dtype\": \"string\",\n        \"num_unique_values\": 14,\n        \"samples\": [\n          \"{\\\"IP address\\\": [\\\"192.168.1.100\\\"]}\",\n          \"{\\\"D12345678\\\": \\\"Driver's License Number\\\"}\",\n          \"{\\\"Name\\\": \\\"Alice\\\", \\\"Email\\\": \\\"alice@example.com\\\", \\\"SSN\\\": \\\"123-45-6789\\\"}\"\n        ],\n        \"semantic_type\": \"\",\n        \"description\": \"\"\n      }\n    }\n  ]\n}"
            }
          },
          "metadata": {}
        }
      ]
    },
    {
      "cell_type": "markdown",
      "source": [
        "## ✅ Lab 1: Things You Can Try\n",
        "\n",
        "As you explore each section of this lab, here are a few ideas and challenges to help you deepen your learning and stretch your prompt engineering.\n",
        "\n",
        "---\n",
        "\n",
        "### 1. CVE Extraction from Noisy Logs\n",
        "\n",
        "**Try This:**\n",
        "- Modify the prompt to return **CVE IDs with context** (e.g., surrounding log lines)\n",
        "- Ask the LLM to **group CVEs by year**, or tag them with **risk levels**\n",
        "- Try feeding logs in **different formats** (CSV, JSON lines, etc.)\n",
        "- Introduce noise or obfuscation in the log — does the LLM still work?\n",
        "\n",
        "---\n",
        "\n",
        "### 2. Secure Code Review with GenAI\n",
        "\n",
        "**Try This:**\n",
        "- Change the code snippet to include **multiple issues** (e.g., hardcoded secrets + SQL injection)\n",
        "- Ask for **line numbers** where vulnerabilities occur\n",
        "- Change the output format to **YAML or Markdown** (to simulate report generation)\n",
        "- Add a prompt variant that asks the model to **write unit tests** for the fixed code\n",
        "- Try removing part of the prompt — how does it affect the model's precision?\n",
        "\n",
        "---\n",
        "\n",
        "### 3. PII Redaction with spaCy + Regex\n",
        "\n",
        "**Try This:**\n",
        "- Extend regex patterns to cover:\n",
        "  - IPv4 / IPv6 addresses\n",
        "  - Credit card numbers\n",
        "  - API keys or tokens\n",
        "- Try **visualizing** the redacted vs original text side-by-side\n",
        "- Challenge: Introduce **edge cases** like misformatted phone numbers or emails\n",
        "- Try integrating this into a **streaming input (chat-style)**\n",
        "\n",
        "---\n",
        "\n",
        "### 4. PII Redaction with DSPy\n",
        "\n",
        "**Try This:**\n",
        "- Modify the DSPy signature to also return **reasoning steps** per PII detected\n",
        "- Add a field for **PII type confidence score**\n",
        "- Use DSPy with a **different LLM backend** (e.g., change `lm=\"openai/gpt-4\"`)\n",
        "- Try combining **DSPy with Guardrails** to enforce JSON validation\n",
        "\n",
        "---\n",
        "\n",
        "> 💡 Bonus Challenge: Combine what you’ve learned across labs — e.g., extract CVEs from logs that include PII, redact it first, then run analysis.\n",
        "\n",
        "\n",
        "\n"
      ],
      "metadata": {
        "id": "NetAv2MdB9n_"
      },
      "id": "NetAv2MdB9n_"
    },
    {
      "cell_type": "markdown",
      "source": [
        "------------------------------------------------"
      ],
      "metadata": {
        "id": "xmDWN0zDCqLU"
      },
      "id": "xmDWN0zDCqLU"
    },
    {
      "cell_type": "markdown",
      "source": [
        "## 🔁 Alternate Setup: Run with Ollama or OpenAI\n",
        "\n",
        "If you'd like to rerun this notebook after the workshop, either using OpenAI or a free local model — here’s how to configure your environment.\n",
        "\n",
        "---\n",
        "\n",
        "### 🔹 Option 1: Use OpenAI GPT (3.5 or 4)\n",
        "\n",
        "1. **Get your API Key:**  \n",
        "   👉 [https://platform.openai.com/account/api-keys](https://platform.openai.com/account/api-keys)\n",
        "\n",
        "2. **Install the OpenAI SDK:**\n",
        "   ```bash\n",
        "   pip install openai\n"
      ],
      "metadata": {
        "id": "VfQY2Oui7m-m"
      },
      "id": "VfQY2Oui7m-m"
    },
    {
      "cell_type": "markdown",
      "source": [
        "### 🔹 Option 2: Use Free Local LLMs with Ollama (e.g., LLaMA3)\n",
        "\n",
        "You can run LLMs like LLaMA3 or Mistral locally on your machine using [Ollama](https://ollama.com/), which is free and privacy-friendly.\n",
        "\n",
        "**Steps to use Ollama:**\n",
        "1. Download and install Ollama → [https://ollama.com/download](https://ollama.com/download)\n",
        "2. Run a model like `llama3` locally on your system\n",
        "3. Send prompts to the local model using Python or curl\n",
        "\n",
        "Ollama allows you to experiment with powerful open-source LLMs without needing cloud access or API keys — great for offline use, local testing, or privacy-sensitive projects.\n",
        "\n",
        "> 💡 Ideal for developers who want to avoid API costs or test LLM behavior in sandboxed environments.\n"
      ],
      "metadata": {
        "id": "VN65qokR7m76"
      },
      "id": "VN65qokR7m76"
    },
    {
      "cell_type": "markdown",
      "source": [
        "## Key Takeaways\n",
        "1. **Structure matters more than length** in prompts\n",
        "2. **Always validate LLM outputs** in security contexts  \n",
        "3. **Hybrid approaches** (rules + AI) often work best\n",
        "4. **Test edge cases** extensively before production use"
      ],
      "metadata": {
        "id": "IVWJoPaVEbUo"
      },
      "id": "IVWJoPaVEbUo"
    },
    {
      "cell_type": "markdown",
      "source": [
        "##  Mapping to OWASP LLM Top 10\n",
        "\n",
        "| Lab Task                            | OWASP LLM Risk                        | Description                                               |\n",
        "|------------------------------------|--------------------------------------|-----------------------------------------------------------|\n",
        "| CVE Extraction from logs           | **LLM01: Prompt Injection**          | Teaches prompt clarity to avoid misbehavior               |\n",
        "| Secure Code Review                 | **LLM06: Insecure Output Handling**  | Ensures model output is structured, filtered, validated   |\n",
        "| PII Redaction with spaCy/DSPy      | **LLM05: Sensitive Info Disclosure** | Redacts name, email, SSN from user/system input           |\n",
        "| Weak prompt (before cleanup)       | **LLM04: Overreliance**              | Highlights model brittleness when prompts are vague       |\n",
        "| DSPy use for redaction             | **LLM03: Training Data Poisoning**   | Begins the discussion on controlling output formats       |\n"
      ],
      "metadata": {
        "id": "Jo5U7ZNULh6z"
      },
      "id": "Jo5U7ZNULh6z"
    },
    {
      "cell_type": "markdown",
      "source": [
        "## Aligning NIST AI Risk Management Framework (RMF)\n",
        "\n",
        "| RMF Core Function | Lab Alignment                                             |\n",
        "|-------------------|----------------------------------------------------------|\n",
        "| **Map**           | Identify system logs, PII, and code inputs as use cases  |\n",
        "| **Measure**       | Evaluate prompt performance, output quality              |\n",
        "| **Manage**        | Use structured output and validations (e.g., JSON)       |\n",
        "| **Govern**        | Discuss hallucinations, bias, sensitive data exposure    |\n",
        "\n"
      ],
      "metadata": {
        "id": "Cz50K8ktLxzr"
      },
      "id": "Cz50K8ktLxzr"
    }
  ],
  "metadata": {
    "colab": {
      "provenance": []
    },
    "language_info": {
      "name": "python"
    },
    "kernelspec": {
      "name": "python3",
      "display_name": "Python 3"
    }
  },
  "nbformat": 4,
  "nbformat_minor": 5
}